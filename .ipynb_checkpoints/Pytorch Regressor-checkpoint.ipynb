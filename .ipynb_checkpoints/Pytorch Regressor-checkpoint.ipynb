{
 "cells": [
  {
   "cell_type": "markdown",
   "id": "01901c15-5311-4d26-96bc-b81006bc1282",
   "metadata": {},
   "source": [
    "<h1 align=center> Linear Regressor with Pytorch </h1>"
   ]
  },
  {
   "cell_type": "markdown",
   "id": "5eaa3052-6ce7-46d7-ad37-c560681d0fe1",
   "metadata": {},
   "source": [
    "This is going to be a fairly tentative overview of how to build linear regression models in pytorch. It serves for good practice and we miht learn a lot."
   ]
  },
  {
   "cell_type": "markdown",
   "id": "65636245-55e7-42c3-8681-7b245156d533",
   "metadata": {},
   "source": [
    "<h2 align=center> Plain Simple </h2>\n",
    "\n",
    "First we use the built in linear model."
   ]
  },
  {
   "cell_type": "code",
   "execution_count": 2,
   "id": "43d94c33-16ad-4c32-b7ba-1bdae69fac0d",
   "metadata": {
    "tags": []
   },
   "outputs": [],
   "source": [
    "import torch\n",
    "from torch.nn import Linear"
   ]
  },
  {
   "cell_type": "code",
   "execution_count": 3,
   "id": "0bb7505e-0bd7-42ba-acb2-548693105d7b",
   "metadata": {
    "tags": []
   },
   "outputs": [
    {
     "data": {
      "text/plain": [
       "<torch._C.Generator at 0x2318f434070>"
      ]
     },
     "execution_count": 3,
     "metadata": {},
     "output_type": "execute_result"
    }
   ],
   "source": [
    "torch.manual_seed(1)"
   ]
  },
  {
   "cell_type": "code",
   "execution_count": 8,
   "id": "523d3697-40d0-4f3e-aafd-f4796dfef5b8",
   "metadata": {
    "tags": []
   },
   "outputs": [
    {
     "data": {
      "text/plain": [
       "tensor([0.2755], grad_fn=<AddBackward0>)"
      ]
     },
     "execution_count": 8,
     "metadata": {},
     "output_type": "execute_result"
    }
   ],
   "source": [
    "# Datapoints\n",
    "X = torch.tensor([1.0])\n",
    "\n",
    "# Model-building\n",
    "model = Linear(in_features=1, out_features=1)\n",
    "yhat = model(X)\n",
    "yhat"
   ]
  },
  {
   "cell_type": "code",
   "execution_count": 12,
   "id": "37b6ac9b-1324-4eba-9264-d5a269d2f680",
   "metadata": {
    "tags": []
   },
   "outputs": [
    {
     "name": "stdout",
     "output_type": "stream",
     "text": [
      "Parameter containing:\n",
      "tensor([[-0.1939]], requires_grad=True)\n",
      "Parameter containing:\n",
      "tensor([0.4694], requires_grad=True)\n"
     ]
    }
   ],
   "source": [
    "# Print model parameters\n",
    "for param in model.parameters():\n",
    "    print(param)"
   ]
  },
  {
   "cell_type": "markdown",
   "id": "b0511a5b-08df-435a-8fbb-b55fbbf6a4d9",
   "metadata": {},
   "source": [
    "<h2 align=center> Notes </h2>\n",
    "\n",
    "- It had not occurred to me until now that the representation of the linear model is hidden in the `Linear` object. We don't need to specify the equation, only the number of `input(output) features`"
   ]
  },
  {
   "cell_type": "markdown",
   "id": "f543a790-955a-445a-acf5-20c8d2857eea",
   "metadata": {},
   "source": [
    "<h2 align=center> Next Steps </h2>\n",
    "\n",
    "1. Include more features in model `in_features=`.\n",
    "2. Predict on a snippet of a real life dataset, like the `houseprices` dataset."
   ]
  },
  {
   "cell_type": "code",
   "execution_count": null,
   "id": "c8549ece-bbf1-4f9a-9958-5c91561be9dd",
   "metadata": {},
   "outputs": [],
   "source": []
  }
 ],
 "metadata": {
  "kernelspec": {
   "display_name": "DeepLearning",
   "language": "python",
   "name": "deeplearning"
  },
  "language_info": {
   "codemirror_mode": {
    "name": "ipython",
    "version": 3
   },
   "file_extension": ".py",
   "mimetype": "text/x-python",
   "name": "python",
   "nbconvert_exporter": "python",
   "pygments_lexer": "ipython3",
   "version": "3.10.4"
  }
 },
 "nbformat": 4,
 "nbformat_minor": 5
}
